{
  "nbformat": 4,
  "nbformat_minor": 0,
  "metadata": {
    "colab": {
      "name": "Part2:Prediction.ipynb",
      "provenance": [],
      "authorship_tag": "ABX9TyOQaQh3uhiATz82/9KW0XUG"
    },
    "kernelspec": {
      "name": "python3",
      "display_name": "Python 3"
    },
    "language_info": {
      "name": "python"
    }
  },
  "cells": [
    {
      "cell_type": "code",
      "source": [
        "\"\"\" Import Required Libraries\"\"\"\n",
        "from tensorflow import keras\n",
        "import cv2\n",
        "from matplotlib import pyplot as plt\n",
        "import numpy as np\n",
        "import pandas as pd"
      ],
      "metadata": {
        "id": "IWgStHNw3r0k"
      },
      "execution_count": null,
      "outputs": []
    },
    {
      "cell_type": "code",
      "execution_count": null,
      "metadata": {
        "id": "WgOswKvn2scG"
      },
      "outputs": [],
      "source": [
        "from google.colab import drive\n",
        "drive.mount('/content/drive')"
      ]
    },
    {
      "cell_type": "code",
      "source": [
        "\"\"\"\n",
        "\n",
        "Making prediction using the trained models\n",
        " \n",
        "\"\"\"\n",
        "\n",
        "model = keras.models.load_model('/content/drive/MyDrive/Colab_Notebooks/GP/Models/3rdm_UNet_plus_50epochs.h5', compile=False)\n",
        "\n",
        "#Read a single image and perform image pre-processing\n",
        "test_img = cv2.imread('/content/drive/MyDrive/Colab_Notebooks/GP/dataset/testing_set/images/476-22-F-440627.jpg', cv2.IMREAD_GRAYSCALE) \n",
        "orig= test_img\n",
        "orig = cv2.resize(test_img, (512, 256))      \n",
        "test_img = cv2.resize(test_img, (512, 256))\n",
        "test_img = cv2.cvtColor(test_img, cv2.COLOR_BAYER_GR2GRAY)\n",
        "test_img = np.expand_dims(test_img, axis=0)\n",
        "\n",
        "#Make prediction\n",
        "prediction = model.predict(test_img)\n",
        "\n",
        "#View original image\n",
        "plt.figure(figsize=(15, 18))\n",
        "plt.subplot(1, 2, 1)\n",
        "plt.imshow(orig, cmap='gray')\n",
        "plt.title('Original')\n",
        "\n",
        "#View predicted image\n",
        "plt.subplot(1, 2, 2)\n",
        "prediction_image = prediction.reshape(256, 512)\n",
        "plt.imshow(prediction_image, cmap='gray')\n",
        "plt.title('Predicted')\n",
        "\n",
        "#Save predicted image to drive\n",
        "plt.imsave('/content/drive/MyDrive/Colab_Notebooks/GP/dataset/predicted/unet_plus/476-22-F-440627.jpg', prediction_image, cmap='gray')"
      ],
      "metadata": {
        "id": "F8wkdIUt3uk5"
      },
      "execution_count": null,
      "outputs": []
    }
  ]
}